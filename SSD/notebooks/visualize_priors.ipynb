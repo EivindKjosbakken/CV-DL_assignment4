{
 "cells": [
  {
   "cell_type": "code",
   "execution_count": 7,
   "metadata": {},
   "outputs": [
    {
     "name": "stdout",
     "output_type": "stream",
     "text": [
      "c:\\Users\\eivin\\NTNU vår 22 lokal\\DDL\\assignment4\\SSD\n"
     ]
    },
    {
     "ename": "ModuleNotFoundError",
     "evalue": "No module named 'cloudpickle'",
     "output_type": "error",
     "traceback": [
      "\u001b[1;31m---------------------------------------------------------------------------\u001b[0m",
      "\u001b[1;31mModuleNotFoundError\u001b[0m                       Traceback (most recent call last)",
      "\u001b[1;32mc:\\Users\\eivin\\NTNU vår 22 lokal\\DDL\\assignment4\\SSD\\notebooks\\visualize_priors.ipynb Cell 1'\u001b[0m in \u001b[0;36m<cell line: 8>\u001b[1;34m()\u001b[0m\n\u001b[0;32m      <a href='vscode-notebook-cell:/c%3A/Users/eivin/NTNU%20v%C3%A5r%2022%20lokal/DDL/assignment4/SSD/notebooks/visualize_priors.ipynb#ch0000000?line=5'>6</a>\u001b[0m sys\u001b[39m.\u001b[39mpath\u001b[39m.\u001b[39mappend(os\u001b[39m.\u001b[39mpath\u001b[39m.\u001b[39mdirname(os\u001b[39m.\u001b[39mgetcwd())) \u001b[39m# Insert all modules from the folder above\u001b[39;00m\n\u001b[0;32m      <a href='vscode-notebook-cell:/c%3A/Users/eivin/NTNU%20v%C3%A5r%2022%20lokal/DDL/assignment4/SSD/notebooks/visualize_priors.ipynb#ch0000000?line=6'>7</a>\u001b[0m \u001b[39mprint\u001b[39m(os\u001b[39m.\u001b[39mpath\u001b[39m.\u001b[39mdirname(os\u001b[39m.\u001b[39mgetcwd())) \u001b[39m# Insert all modules from the folder above)\u001b[39;00m\n\u001b[1;32m----> <a href='vscode-notebook-cell:/c%3A/Users/eivin/NTNU%20v%C3%A5r%2022%20lokal/DDL/assignment4/SSD/notebooks/visualize_priors.ipynb#ch0000000?line=7'>8</a>\u001b[0m \u001b[39mfrom\u001b[39;00m \u001b[39mtops\u001b[39;00m\u001b[39m.\u001b[39;00m\u001b[39mconfig\u001b[39;00m \u001b[39mimport\u001b[39;00m LazyConfig, instantiate\n",
      "File \u001b[1;32mc:\\Users\\eivin\\NTNU vår 22 lokal\\DDL\\assignment4\\SSD\\tops\\__init__.py:1\u001b[0m, in \u001b[0;36m<module>\u001b[1;34m\u001b[0m\n\u001b[1;32m----> <a href='file:///c%3A/Users/eivin/NTNU%20v%C3%A5r%2022%20lokal/DDL/assignment4/SSD/tops/__init__.py?line=0'>1</a>\u001b[0m \u001b[39mfrom\u001b[39;00m \u001b[39m.\u001b[39;00m \u001b[39mimport\u001b[39;00m config\n\u001b[0;32m      <a href='file:///c%3A/Users/eivin/NTNU%20v%C3%A5r%2022%20lokal/DDL/assignment4/SSD/tops/__init__.py?line=1'>2</a>\u001b[0m \u001b[39mfrom\u001b[39;00m \u001b[39m.\u001b[39;00m\u001b[39mbuild\u001b[39;00m \u001b[39mimport\u001b[39;00m init\n\u001b[0;32m      <a href='file:///c%3A/Users/eivin/NTNU%20v%C3%A5r%2022%20lokal/DDL/assignment4/SSD/tops/__init__.py?line=2'>3</a>\u001b[0m \u001b[39mfrom\u001b[39;00m \u001b[39m.\u001b[39;00m \u001b[39mimport\u001b[39;00m logger\n",
      "File \u001b[1;32mc:\\Users\\eivin\\NTNU vår 22 lokal\\DDL\\assignment4\\SSD\\tops\\config\\__init__.py:4\u001b[0m, in \u001b[0;36m<module>\u001b[1;34m\u001b[0m\n\u001b[0;32m      <a href='file:///c%3A/Users/eivin/NTNU%20v%C3%A5r%2022%20lokal/DDL/assignment4/SSD/tops/config/__init__.py?line=1'>2</a>\u001b[0m \u001b[39m# Copyright (c) Facebook, Inc. and its affiliates.\u001b[39;00m\n\u001b[0;32m      <a href='file:///c%3A/Users/eivin/NTNU%20v%C3%A5r%2022%20lokal/DDL/assignment4/SSD/tops/config/__init__.py?line=2'>3</a>\u001b[0m \u001b[39mfrom\u001b[39;00m \u001b[39m.\u001b[39;00m\u001b[39minstantiate\u001b[39;00m \u001b[39mimport\u001b[39;00m instantiate\n\u001b[1;32m----> <a href='file:///c%3A/Users/eivin/NTNU%20v%C3%A5r%2022%20lokal/DDL/assignment4/SSD/tops/config/__init__.py?line=3'>4</a>\u001b[0m \u001b[39mfrom\u001b[39;00m \u001b[39m.\u001b[39;00m\u001b[39mlazy\u001b[39;00m \u001b[39mimport\u001b[39;00m LazyCall, LazyConfig\n",
      "File \u001b[1;32mc:\\Users\\eivin\\NTNU vår 22 lokal\\DDL\\assignment4\\SSD\\tops\\config\\lazy.py:9\u001b[0m, in \u001b[0;36m<module>\u001b[1;34m\u001b[0m\n\u001b[0;32m      <a href='file:///c%3A/Users/eivin/NTNU%20v%C3%A5r%2022%20lokal/DDL/assignment4/SSD/tops/config/lazy.py?line=6'>7</a>\u001b[0m \u001b[39mimport\u001b[39;00m \u001b[39mos\u001b[39;00m\n\u001b[0;32m      <a href='file:///c%3A/Users/eivin/NTNU%20v%C3%A5r%2022%20lokal/DDL/assignment4/SSD/tops/config/lazy.py?line=7'>8</a>\u001b[0m \u001b[39mimport\u001b[39;00m \u001b[39muuid\u001b[39;00m\n\u001b[1;32m----> <a href='file:///c%3A/Users/eivin/NTNU%20v%C3%A5r%2022%20lokal/DDL/assignment4/SSD/tops/config/lazy.py?line=8'>9</a>\u001b[0m \u001b[39mimport\u001b[39;00m \u001b[39mcloudpickle\u001b[39;00m\n\u001b[0;32m     <a href='file:///c%3A/Users/eivin/NTNU%20v%C3%A5r%2022%20lokal/DDL/assignment4/SSD/tops/config/lazy.py?line=9'>10</a>\u001b[0m \u001b[39mimport\u001b[39;00m \u001b[39myaml\u001b[39;00m\n\u001b[0;32m     <a href='file:///c%3A/Users/eivin/NTNU%20v%C3%A5r%2022%20lokal/DDL/assignment4/SSD/tops/config/lazy.py?line=10'>11</a>\u001b[0m \u001b[39mfrom\u001b[39;00m \u001b[39mcollections\u001b[39;00m \u001b[39mimport\u001b[39;00m abc\n",
      "\u001b[1;31mModuleNotFoundError\u001b[0m: No module named 'cloudpickle'"
     ]
    }
   ],
   "source": [
    "import matplotlib.pyplot as plt\n",
    "import matplotlib\n",
    "import numpy as np\n",
    "import os\n",
    "import sys\n",
    "sys.path.append(os.path.dirname(os.getcwd())) # Insert all modules from the folder above\n",
    "print(os.path.dirname(os.getcwd())) # Insert all modules from the folder above)\n",
    "from tops.config import LazyConfig, instantiate\n"
   ]
  },
  {
   "cell_type": "code",
   "execution_count": 3,
   "metadata": {},
   "outputs": [],
   "source": [
    "def plot_bbox(ax, box, color, circle=True):\n",
    "    cx, cy, w, h = box\n",
    "    cx *= cfg.train.imshape[1]\n",
    "    cy *= cfg.train.imshape[0]\n",
    "    w *= cfg.train.imshape[1]\n",
    "    h *= cfg.train.imshape[0]\n",
    "    x1, y1 = cx + w/2, cy + h/2\n",
    "    x0, y0 = cx - w/2, cy - h/2\n",
    "    if circle:\n",
    "        ax.add_artist(matplotlib.patches.Ellipse([cx, cy], w,h, alpha=.1, color=color))\n",
    "        plt.plot(cx, cy, f\"o{color}\")\n",
    "    else:\n",
    "        plt.plot([x0, x0, x1, x1, x0],[y0, y1, y1, y0, y0], f\"{color}\", alpha=.5)\n",
    "        \n",
    "def get_num_boxes_in_fmap(idx):\n",
    "    boxes_per_location = 2 + 2*len(cfg.anchors.aspect_ratios[idx])\n",
    "    feature_map_size = cfg.anchors.feature_sizes[idx]\n",
    "    return int(boxes_per_location * np.prod(feature_map_size))"
   ]
  },
  {
   "cell_type": "code",
   "execution_count": 4,
   "metadata": {},
   "outputs": [
    {
     "ename": "NameError",
     "evalue": "name 'LazyConfig' is not defined",
     "output_type": "error",
     "traceback": [
      "\u001b[1;31m---------------------------------------------------------------------------\u001b[0m",
      "\u001b[1;31mNameError\u001b[0m                                 Traceback (most recent call last)",
      "\u001b[1;32mc:\\Users\\eivin\\NTNU vår 22 lokal\\DDL\\assignment4\\SSD\\notebooks\\visualize_priors.ipynb Cell 3'\u001b[0m in \u001b[0;36m<cell line: 1>\u001b[1;34m()\u001b[0m\n\u001b[1;32m----> <a href='vscode-notebook-cell:/c%3A/Users/eivin/NTNU%20v%C3%A5r%2022%20lokal/DDL/assignment4/SSD/notebooks/visualize_priors.ipynb#ch0000002?line=0'>1</a>\u001b[0m cfg \u001b[39m=\u001b[39m LazyConfig\u001b[39m.\u001b[39mload(\u001b[39m\"\u001b[39m\u001b[39m../configs/ssd300.py\u001b[39m\u001b[39m\"\u001b[39m)\n\u001b[0;32m      <a href='vscode-notebook-cell:/c%3A/Users/eivin/NTNU%20v%C3%A5r%2022%20lokal/DDL/assignment4/SSD/notebooks/visualize_priors.ipynb#ch0000002?line=1'>2</a>\u001b[0m anchors \u001b[39m=\u001b[39m instantiate(cfg\u001b[39m.\u001b[39manchors)(order\u001b[39m=\u001b[39m\u001b[39m\"\u001b[39m\u001b[39mxywh\u001b[39m\u001b[39m\"\u001b[39m)\n\u001b[0;32m      <a href='vscode-notebook-cell:/c%3A/Users/eivin/NTNU%20v%C3%A5r%2022%20lokal/DDL/assignment4/SSD/notebooks/visualize_priors.ipynb#ch0000002?line=2'>3</a>\u001b[0m \u001b[39mprint\u001b[39m(\u001b[39m\"\u001b[39m\u001b[39mNumber of anchors:\u001b[39m\u001b[39m\"\u001b[39m, \u001b[39mlen\u001b[39m(anchors))\n",
      "\u001b[1;31mNameError\u001b[0m: name 'LazyConfig' is not defined"
     ]
    }
   ],
   "source": [
    "cfg = LazyConfig.load(\"../configs/ssd300.py\")\n",
    "anchors = instantiate(cfg.anchors)(order=\"xywh\")\n",
    "print(\"Number of anchors:\", len(anchors))\n",
    "\n",
    "PLOT_CIRCLE = True\n",
    "fmap_idx_to_visualize = 5\n",
    "print(\"Aspect used for feature map:\", cfg.anchors.aspect_ratios[fmap_idx_to_visualize])\n",
    "# Set which aspect ratio indices we want to visualize\n",
    "aspect_ratio_indices = [0, 1, 2, 3]\n",
    "\n",
    "offset = sum([get_num_boxes_in_fmap(prev_layer) for prev_layer in range(fmap_idx_to_visualize)])"
   ]
  },
  {
   "cell_type": "code",
   "execution_count": 5,
   "metadata": {},
   "outputs": [
    {
     "name": "stderr",
     "output_type": "stream",
     "text": [
      "C:\\Users\\mamoo\\AppData\\Local\\Temp/ipykernel_41528/2514598077.py:24: UserWarning: Matplotlib is currently using agg, which is a non-GUI backend, so cannot show the figure.\n",
      "  plt.show()\n"
     ]
    }
   ],
   "source": [
    "fig, ax = plt.subplots()\n",
    "\n",
    "# Set up our scene\n",
    "plt.ylim([-100, cfg.train.imshape[0]+100])\n",
    "plt.xlim([-100, cfg.train.imshape[1]+100])\n",
    "\n",
    "\n",
    "\n",
    "boxes_per_location = 2 + 2*len(cfg.anchors.aspect_ratios[fmap_idx_to_visualize])\n",
    "indices_to_visualize = []\n",
    "colors = []\n",
    "available_colors = [\"r\", \"g\", \"b\", \"y\", \"m\", \"b\",\"w\"]\n",
    "for idx in range(offset, offset + get_num_boxes_in_fmap(fmap_idx_to_visualize)):\n",
    "    for aspect_ratio_idx in aspect_ratio_indices:\n",
    "        if idx % boxes_per_location == aspect_ratio_idx:\n",
    "            indices_to_visualize.append(idx)\n",
    "            colors.append(available_colors[aspect_ratio_idx])\n",
    "\n",
    "ax.add_artist(plt.Rectangle([0, 0], cfg.train.imshape[1], cfg.train.imshape[0]))\n",
    "for i, idx in enumerate(indices_to_visualize):\n",
    "    prior = anchors[idx]\n",
    "    color = colors[i]\n",
    "    plot_bbox(ax, prior, color, PLOT_CIRCLE)\n",
    "plt.show()"
   ]
  },
  {
   "cell_type": "code",
   "execution_count": null,
   "metadata": {},
   "outputs": [],
   "source": []
  }
 ],
 "metadata": {
  "interpreter": {
   "hash": "088b827b8b985f163c2bc9e7571c109fd1cd09e7d4200c98bc68a07b57088618"
  },
  "kernelspec": {
   "display_name": "Python 3.9 (torch)",
   "language": "python",
   "name": "torch"
  },
  "language_info": {
   "codemirror_mode": {
    "name": "ipython",
    "version": 3
   },
   "file_extension": ".py",
   "mimetype": "text/x-python",
   "name": "python",
   "nbconvert_exporter": "python",
   "pygments_lexer": "ipython3",
   "version": "3.8.12"
  }
 },
 "nbformat": 4,
 "nbformat_minor": 4
}
